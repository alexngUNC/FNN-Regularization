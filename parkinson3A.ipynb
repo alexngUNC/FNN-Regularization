{
 "cells": [
  {
   "attachments": {},
   "cell_type": "markdown",
   "metadata": {},
   "source": [
    "# More Neural Network Testing"
   ]
  },
  {
   "cell_type": "code",
   "execution_count": 1,
   "metadata": {},
   "outputs": [
    {
     "name": "stdout",
     "output_type": "stream",
     "text": [
      "Original data: 5875\n",
      "Training set: 3760\n",
      "Validation set: 940\n",
      "Testing set: 1175\n"
     ]
    }
   ],
   "source": [
    "# Libraries\n",
    "import tensorflow as tf\n",
    "import numpy as np\n",
    "import pandas as pd\n",
    "import matplotlib.pyplot as plt\n",
    "\n",
    "# Tensorflow aliases\n",
    "from tensorflow.keras.models import Sequential\n",
    "from tensorflow.keras.layers import Dense, Dropout, Flatten\n",
    "from tensorflow.keras.regularizers import l2, l1\n",
    "from tensorflow.keras.utils import plot_model\n",
    "\n",
    "data = pd.read_csv('../parkinsons_updrs.csv')\n",
    "\n",
    "# Drop the subject # column because it is useless\n",
    "data = data.drop('subject#', axis=1)\n",
    "\n",
    "X = data.drop(['motor_UPDRS', 'total_UPDRS'], axis=1)\n",
    "y = data['total_UPDRS']\n",
    "\n",
    "# Split into training and test sets\n",
    "from sklearn.model_selection import train_test_split\n",
    "X_train, X_test, y_train, y_test = train_test_split(X, y, test_size=0.2, random_state=42)\n",
    "\n",
    "# Randomly select 10% of the training data to be the validation set\n",
    "X_train, X_val, y_train, y_val = train_test_split(X_train, y_train, test_size=0.2, random_state=42)\n",
    "print(f\"Original data: {len(X)}\\nTraining set: {len(X_train)}\\nValidation set: {len(X_val)}\\nTesting set: {len(X_test)}\")\n",
    "\n",
    "# Weight regularization to keep the weights small\n",
    "def build_model(neurons, layers, input_shape, activation='linear', regularizer=None, lam=0.01, dropout=False, drop_prob=0.2, summarize=False):\n",
    "  model = Sequential()\n",
    "  model.add(Flatten(input_shape=input_shape))\n",
    "  if regularizer != None:\n",
    "    for i in range(layers-1):\n",
    "      model.add(Dense(neurons, activation=activation, kernel_regularizer=regularizer(lam)))\n",
    "      if dropout:\n",
    "        model.add(Dropout(0.2)) # randomly select nodes with probability 0.2\n",
    "  else:\n",
    "    model.add(Dense(neurons, input_shape=input_shape))\n",
    "    for i in range(layers-1):\n",
    "      model.add(Dense(neurons, activation=activation))\n",
    "  \n",
    "\n",
    "  model.add(Dense(1))\n",
    "  model.compile(loss='mae', optimizer='adam', metrics=['mae'])\n",
    "\n",
    "  if summarize:\n",
    "    model.build()\n",
    "    model.summary()\n",
    "    \n",
    "  return model\n",
    "\n",
    "# Helper functions\n",
    "def show_acc(h, e):\n",
    "  plt.plot(range(e), h.history['mae'], label='Training')\n",
    "  plt.plot(range(e), h.history['val_mae'], label='Validation')\n",
    "  plt.ylim([0, np.max(h.history['mae'])+10])\n",
    "  plt.legend()\n",
    "  plt.show()\n",
    "\n",
    "def build_and_plot(neurons, layers, input_shape, activation='linear', regularizer=None, lam=0.01, dropout=False, drop_prob=0.2, summarize=False, e=100, verbose=0):\n",
    "  model = build_model(neurons, layers, input_shape, activation=activation, regularizer=regularizer, lam=lam, dropout=dropout, drop_prob=drop_prob, summarize=summarize)\n",
    "  history = model.fit(X_train, y_train, validation_data=(X_val, y_val), epochs=e, verbose=verbose)\n",
    "  show_acc(history, e)\n",
    "  print(\"Max mae: \", np.max(history.history['mae']))\n",
    "  print(\"Min mae: \", np.min(history.history['mae']))\n",
    "  print(\"Test MAE: \", model.evaluate(X_test, y_test))"
   ]
  },
  {
   "cell_type": "code",
   "execution_count": 3,
   "metadata": {},
   "outputs": [],
   "source": [
    "# Model 32:\n",
    "# build_and_plot(neurons=128, layers=4, input_shape=(X_train.shape[1],), activation='elu', dropout=False, e=1000, verbose=0)\n",
    "\n",
    "\n",
    "# Model 45:\n",
    "# build_and_plot(neurons=128, layers=4, input_shape=(X_train.shape[1],), activation='elu', dropout=True, drop_prob=0.4, e=1000, verbose=0)\n",
    "\n",
    "\n",
    "# Model 44:\n",
    "# build_and_plot(neurons=128, layers=4, input_shape=(X_train.shape[1],), activation='elu', dropout=True, drop_prob=0.3, e=1000, verbose=0)\n",
    "\n",
    "\n",
    "# Model 35:\n",
    "# build_and_plot(neurons=128, layers=4, input_shape=(X_train.shape[1],), regularizer=l2, activation='elu', dropout=False, e=1000, verbose=0)\n",
    "\n",
    "\n",
    "# Model 31:\n",
    "# build_and_plot(neurons=128, layers=4, input_shape=(X_train.shape[1],), activation='elu', dropout=False, e=500, verbose=0)"
   ]
  },
  {
   "cell_type": "code",
   "execution_count": null,
   "metadata": {},
   "outputs": [],
   "source": []
  }
 ],
 "metadata": {
  "kernelspec": {
   "display_name": "Python 3",
   "language": "python",
   "name": "python3"
  },
  "language_info": {
   "codemirror_mode": {
    "name": "ipython",
    "version": 3
   },
   "file_extension": ".py",
   "mimetype": "text/x-python",
   "name": "python",
   "nbconvert_exporter": "python",
   "pygments_lexer": "ipython3",
   "version": "3.10.9"
  },
  "orig_nbformat": 4
 },
 "nbformat": 4,
 "nbformat_minor": 2
}
